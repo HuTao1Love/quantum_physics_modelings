{
 "cells": [
  {
   "cell_type": "markdown",
   "metadata": {},
   "source": [
    "На основании модели Кронига-Пени промоделировать зонную структуру одномерного кристалла.\n",
    "Проанализировать изменение ширины запрещенных зон для двух крайних случаев, когда электрон совершенно свободен и когда электрон заперт внутри одной потенциальной ямы, т.е. стенки непроницаемы, а также промежуточные случаи.\n",
    "\n",
    "$V(x) = \\begin{cases} U, & nc + a < x < (n + 1)c \\\\ 0, & nc < x < nc + a \\end{cases}$\n",
    "где a - ширина ямы, c - постоянная кристаллической решетки, $n = 0, \\pm 1, \\pm 2 ....$"
   ]
  },
  {
   "metadata": {
    "ExecuteTime": {
     "end_time": "2024-12-23T13:46:26.366353Z",
     "start_time": "2024-12-23T13:46:23.449016Z"
    }
   },
   "cell_type": "code",
   "source": [
    "import math\n",
    "import numpy as np\n",
    "import matplotlib.pyplot as plt\n",
    "import pandas as pd"
   ],
   "outputs": [],
   "execution_count": 1
  },
  {
   "metadata": {},
   "cell_type": "markdown",
   "source": "Зададим наши параметры. m - масса электрона, кг, hbar - постоянная Планка, COUNT - число измерений. Сразу преобразуем в стандартные единицы (метры, джоули)"
  },
  {
   "metadata": {
    "ExecuteTime": {
     "end_time": "2024-12-23T13:46:26.370021Z",
     "start_time": "2024-12-23T13:46:26.367406Z"
    }
   },
   "cell_type": "code",
   "source": [
    "U = 10\n",
    "a = 1\n",
    "c = 2\n",
    "m = 9.10938356e-31\n",
    "hbar = 1.0545718e-34\n",
    "COUNT = 1000\n",
    "\n",
    "a *= 1e-9\n",
    "c *= 1e-9\n",
    "U *= 1.60218e-19"
   ],
   "outputs": [],
   "execution_count": 2
  },
  {
   "metadata": {},
   "cell_type": "markdown",
   "source": "Зададим массивы энергий, ограничим их значением, превыщающим высоту барьера на 50%. "
  },
  {
   "metadata": {
    "ExecuteTime": {
     "end_time": "2024-12-23T13:46:26.374042Z",
     "start_time": "2024-12-23T13:46:26.370021Z"
    }
   },
   "cell_type": "code",
   "source": "Eval = np.linspace(0, 1.5 * U, COUNT)",
   "outputs": [],
   "execution_count": 3
  },
  {
   "metadata": {},
   "cell_type": "markdown",
   "source": [
    "Рассмотрим массив энергий. Для каждого $E$:\n",
    "- Вычислим волновые векторы $k_1, k_2$\n",
    "- Вычислим $\\cos(kc)$ с помощью дисперсионного уравнения Кронига-Пенни. В случае, если $k_1$ или $k_2$ равны 0, то $\\cos$ не определен. Иначе разбиваем на 2 части.\n",
    "    - $\\cos(k_1 \\cdot a) \\cdot \\cos(k_2 \\cdot (c-a))$\n",
    "        - $k_1a$ описывает осцилляции или затухание волновой функции внутри ямы.\n",
    "        - $k_2(c-a)$ описывает осцилляции или затухание волновой функции внутри барьера.\n",
    "    - $-\\frac{k_1^2 + k_2^2}{2 \\cdot k_1 \\cdot k_2} \\cdot \\sin(k_1 \\cdot a) \\cdot \\sin(k_2 \\cdot (c - a))$ - корректировка для взаимодействия в яме и барьере.\n",
    "Итог: $$\\cos(kc) = \\cos(k_1 \\cdot a) \\cdot \\cos(k_2 \\cdot (c-a))-\\frac{k_1^2 + k_2^2}{2 \\cdot k_1 \\cdot k_2} \\cdot \\sin(k_1 \\cdot a) \\cdot \\sin(k_2 \\cdot (c - a))$$\n",
    "Эти шаги описывают, как электрон ведет себя в кристалле, где есть повторяющиеся участки с высоким и низким потенциалом."
   ]
  },
  {
   "metadata": {
    "ExecuteTime": {
     "end_time": "2024-12-23T13:46:26.405706Z",
     "start_time": "2024-12-23T13:46:26.374042Z"
    }
   },
   "cell_type": "code",
   "source": [
    "coss = []\n",
    "\n",
    "for E in Eval:\n",
    "    k1 = np.sqrt(2 * m * abs(E - U)) / hbar * (1 if E > U else 1j)\n",
    "    k2 = 0 if E <= 0 else np.sqrt(2 * m * E) / hbar\n",
    "    \n",
    "    cos = np.inf if k1 == 0 or k2 == 0 else \\\n",
    "        (np.cos(k1 * a) * np.cos(k2 * (c - a))\n",
    "         - (k1**2 + k2**2) / (2 * k1 * k2) * np.sin(k1 * a) * np.sin(k2 * (c - a)))\n",
    "    \n",
    "    coss.append(cos)\n",
    "    \n",
    "pd.DataFrame([{\"E\": Eval[i], \"cos\": coss[i]} for i in range(len(Eval))])"
   ],
   "outputs": [
    {
     "data": {
      "text/plain": [
       "                E                                             cos\n",
       "0    0.000000e+00           inf+0.000000e+                    00j\n",
       "1    2.405676e-21  4.491834e+07+0.000000e+                    00j\n",
       "2    4.811351e-21  4.069397e+07+0.000000e+                    00j\n",
       "3    7.217027e-21  3.674233e+07+0.000000e+                    00j\n",
       "4    9.622703e-21  3.304940e+07+0.000000e+                    00j\n",
       "..            ...                                             ...\n",
       "995  2.393647e-18  1.092664e+00+0.000000e+                    00j\n",
       "996  2.396053e-18  1.097951e+00+0.000000e+                    00j\n",
       "997  2.398459e-18  1.102450e+00+0.000000e+                    00j\n",
       "998  2.400864e-18  1.106161e+00+0.000000e+                    00j\n",
       "999  2.403270e-18  1.109084e+00+0.000000e+                    00j\n",
       "\n",
       "[1000 rows x 2 columns]"
      ],
      "text/html": [
       "<div>\n",
       "<style scoped>\n",
       "    .dataframe tbody tr th:only-of-type {\n",
       "        vertical-align: middle;\n",
       "    }\n",
       "\n",
       "    .dataframe tbody tr th {\n",
       "        vertical-align: top;\n",
       "    }\n",
       "\n",
       "    .dataframe thead th {\n",
       "        text-align: right;\n",
       "    }\n",
       "</style>\n",
       "<table border=\"1\" class=\"dataframe\">\n",
       "  <thead>\n",
       "    <tr style=\"text-align: right;\">\n",
       "      <th></th>\n",
       "      <th>E</th>\n",
       "      <th>cos</th>\n",
       "    </tr>\n",
       "  </thead>\n",
       "  <tbody>\n",
       "    <tr>\n",
       "      <th>0</th>\n",
       "      <td>0.000000e+00</td>\n",
       "      <td>inf+0.000000e+                    00j</td>\n",
       "    </tr>\n",
       "    <tr>\n",
       "      <th>1</th>\n",
       "      <td>2.405676e-21</td>\n",
       "      <td>4.491834e+07+0.000000e+                    00j</td>\n",
       "    </tr>\n",
       "    <tr>\n",
       "      <th>2</th>\n",
       "      <td>4.811351e-21</td>\n",
       "      <td>4.069397e+07+0.000000e+                    00j</td>\n",
       "    </tr>\n",
       "    <tr>\n",
       "      <th>3</th>\n",
       "      <td>7.217027e-21</td>\n",
       "      <td>3.674233e+07+0.000000e+                    00j</td>\n",
       "    </tr>\n",
       "    <tr>\n",
       "      <th>4</th>\n",
       "      <td>9.622703e-21</td>\n",
       "      <td>3.304940e+07+0.000000e+                    00j</td>\n",
       "    </tr>\n",
       "    <tr>\n",
       "      <th>...</th>\n",
       "      <td>...</td>\n",
       "      <td>...</td>\n",
       "    </tr>\n",
       "    <tr>\n",
       "      <th>995</th>\n",
       "      <td>2.393647e-18</td>\n",
       "      <td>1.092664e+00+0.000000e+                    00j</td>\n",
       "    </tr>\n",
       "    <tr>\n",
       "      <th>996</th>\n",
       "      <td>2.396053e-18</td>\n",
       "      <td>1.097951e+00+0.000000e+                    00j</td>\n",
       "    </tr>\n",
       "    <tr>\n",
       "      <th>997</th>\n",
       "      <td>2.398459e-18</td>\n",
       "      <td>1.102450e+00+0.000000e+                    00j</td>\n",
       "    </tr>\n",
       "    <tr>\n",
       "      <th>998</th>\n",
       "      <td>2.400864e-18</td>\n",
       "      <td>1.106161e+00+0.000000e+                    00j</td>\n",
       "    </tr>\n",
       "    <tr>\n",
       "      <th>999</th>\n",
       "      <td>2.403270e-18</td>\n",
       "      <td>1.109084e+00+0.000000e+                    00j</td>\n",
       "    </tr>\n",
       "  </tbody>\n",
       "</table>\n",
       "<p>1000 rows × 2 columns</p>\n",
       "</div>"
      ]
     },
     "execution_count": 4,
     "metadata": {},
     "output_type": "execute_result"
    }
   ],
   "execution_count": 4
  },
  {
   "metadata": {},
   "cell_type": "markdown",
   "source": [
    "Переведем обратно в эВ. \n",
    "\n",
    "Так же зададим волновые векторы k от $-\\frac{\\pi}{c}$ до $\\frac{\\pi}{c}$ (Первая зона Брюллера).\n",
    "\n",
    "Перебираем разрешенные зоны и для каждой зоны добавляем точку на графике. В прошлом пункте, по массиву coss мы можем понять, в каких местах электрон может находиться (разрешенные зоны) и где он не может быть (запрещенные зоны). \n",
    "\n",
    "Для каждого $E_i$ проверим, что $|coss_i| \\leq 1$. Если подходит - добавляем точку на графике."
   ]
  },
  {
   "metadata": {
    "ExecuteTime": {
     "end_time": "2024-12-23T13:56:14.570679Z",
     "start_time": "2024-12-23T13:56:13.582416Z"
    }
   },
   "cell_type": "code",
   "source": [
    "Eval = Eval / 1.60218e-19\n",
    "kval = np.linspace(-math.pi / c, math.pi / c, COUNT)\n",
    "\n",
    "plt.figure(figsize=(8, 6))\n",
    "\n",
    "for e, is_allowed in zip(Eval, [-1 <= i <= 1 for i in coss]):\n",
    "    if not is_allowed: continue\n",
    "    plt.scatter(kval, [e] * len(kval), s=0.5, color='red')\n",
    "    \n",
    "plt.xlabel(\"$k$\")\n",
    "plt.ylabel(\"$E$\")\n",
    "plt.show()"
   ],
   "outputs": [
    {
     "data": {
      "text/plain": [
       "<Figure size 800x600 with 1 Axes>"
      ],
      "image/png": "[encoded data removed]"
     },
     "metadata": {},
     "output_type": "display_data"
    }
   ],
   "execution_count": 7
  },
  {
   "metadata": {},
   "cell_type": "code",
   "outputs": [],
   "execution_count": null,
   "source": ""
  }
 ],
 "metadata": {
  "language_info": {
   "name": "python"
  },
  "kernelspec": {
   "name": "python3",
   "language": "python",
   "display_name": "Python 3 (ipykernel)"
  }
 },
 "nbformat": 4,
 "nbformat_minor": 2
}
